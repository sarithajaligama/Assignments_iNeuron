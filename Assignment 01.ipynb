{
 "cells": [
  {
   "cell_type": "markdown",
   "metadata": {},
   "source": [
    "##### 1. Write a program which will find all such numbers which are divisible by 7 but are not a multiple of 5, between 2000 and 3200 (both included). The numbers  obtained should be printed in a comma-separated sequence on a single line."
   ]
  },
  {
   "cell_type": "code",
   "execution_count": 15,
   "metadata": {},
   "outputs": [],
   "source": [
    "# Method 1\n",
    "list = []\n",
    "for i in range(2000,3201):\n",
    "    if (i%7 == 0):\n",
    "        if (i%5 == 0):\n",
    "            list.append(i)    "
   ]
  },
  {
   "cell_type": "code",
   "execution_count": 16,
   "metadata": {},
   "outputs": [
    {
     "data": {
      "text/plain": [
       "[2030,\n",
       " 2065,\n",
       " 2100,\n",
       " 2135,\n",
       " 2170,\n",
       " 2205,\n",
       " 2240,\n",
       " 2275,\n",
       " 2310,\n",
       " 2345,\n",
       " 2380,\n",
       " 2415,\n",
       " 2450,\n",
       " 2485,\n",
       " 2520,\n",
       " 2555,\n",
       " 2590,\n",
       " 2625,\n",
       " 2660,\n",
       " 2695,\n",
       " 2730,\n",
       " 2765,\n",
       " 2800,\n",
       " 2835,\n",
       " 2870,\n",
       " 2905,\n",
       " 2940,\n",
       " 2975,\n",
       " 3010,\n",
       " 3045,\n",
       " 3080,\n",
       " 3115,\n",
       " 3150,\n",
       " 3185]"
      ]
     },
     "execution_count": 16,
     "metadata": {},
     "output_type": "execute_result"
    }
   ],
   "source": [
    "list"
   ]
  },
  {
   "cell_type": "code",
   "execution_count": 17,
   "metadata": {},
   "outputs": [],
   "source": [
    "# Method 2\n",
    "list = []\n",
    "for i in range(2000,3201):\n",
    "    if (i%7 == 0) and (i%5 == 0):\n",
    "            list.append(i)    "
   ]
  },
  {
   "cell_type": "code",
   "execution_count": 18,
   "metadata": {},
   "outputs": [
    {
     "data": {
      "text/plain": [
       "[2030,\n",
       " 2065,\n",
       " 2100,\n",
       " 2135,\n",
       " 2170,\n",
       " 2205,\n",
       " 2240,\n",
       " 2275,\n",
       " 2310,\n",
       " 2345,\n",
       " 2380,\n",
       " 2415,\n",
       " 2450,\n",
       " 2485,\n",
       " 2520,\n",
       " 2555,\n",
       " 2590,\n",
       " 2625,\n",
       " 2660,\n",
       " 2695,\n",
       " 2730,\n",
       " 2765,\n",
       " 2800,\n",
       " 2835,\n",
       " 2870,\n",
       " 2905,\n",
       " 2940,\n",
       " 2975,\n",
       " 3010,\n",
       " 3045,\n",
       " 3080,\n",
       " 3115,\n",
       " 3150,\n",
       " 3185]"
      ]
     },
     "execution_count": 18,
     "metadata": {},
     "output_type": "execute_result"
    }
   ],
   "source": [
    "list"
   ]
  },
  {
   "cell_type": "markdown",
   "metadata": {},
   "source": [
    "##### 2. Write a Python program to accept the user's first and last name and then getting them printed in the the reverse order with a space between first name and last name."
   ]
  },
  {
   "cell_type": "code",
   "execution_count": 15,
   "metadata": {
    "scrolled": true
   },
   "outputs": [
    {
     "name": "stdout",
     "output_type": "stream",
     "text": [
      "First name: saritha\n",
      "Last name: jaligama\n",
      "ahtiras amagilaj\n"
     ]
    }
   ],
   "source": [
    "First_name = input(\"First name: \")\n",
    "Last_name = input(\"Last name: \")\n",
    "Full_name = Last_name + \" \" + First_name\n",
    "new_name = Full_name[::-1]\n",
    "print(new_name)"
   ]
  },
  {
   "cell_type": "code",
   "execution_count": null,
   "metadata": {},
   "outputs": [],
   "source": [
    "First_name = input(\"First name: \")\n",
    "Last_name = input(\"Last name: \")\n",
    "Full_name = First_name + \" \" + Last_name\n",
    "print(Full_name)"
   ]
  },
  {
   "cell_type": "markdown",
   "metadata": {},
   "source": [
    "##### 3. Write a Python program to find the volume of a sphere with diameter 12 cm.    Formula: V=4/3 * π * r 3"
   ]
  },
  {
   "cell_type": "code",
   "execution_count": 22,
   "metadata": {},
   "outputs": [
    {
     "name": "stdout",
     "output_type": "stream",
     "text": [
      "Radius of the Sphere is :6.0\n",
      "Value of the sphere with 12 metre is:()\n"
     ]
    }
   ],
   "source": [
    "import math\n",
    "diametre = 12\n",
    "radius = diametre/2\n",
    "\n",
    "print(\"Radius of the Sphere is :{}\".format(radius))\n",
    "\n",
    "V = (4/3)*(math.pi)*(radius**3)\n",
    "print(\"Value of the sphere with 12 metre is:()\".format(V))"
   ]
  },
  {
   "cell_type": "code",
   "execution_count": 12,
   "metadata": {},
   "outputs": [
    {
     "name": "stdout",
     "output_type": "stream",
     "text": [
      "Diametre of the Sphere is : 12\n",
      "\n",
      "Radius of the Sphere is : 6.0\n",
      "\n",
      "Value of the sphere with 12 metre is : 904.7786842338603 cm\n"
     ]
    }
   ],
   "source": [
    "import math\n",
    "\n",
    "# Given information\n",
    "\n",
    "diametre = 12\n",
    "\n",
    "\n",
    "# Finding radius when we know diametre\n",
    "\n",
    "radius = diametre/2\n",
    "\n",
    "# Finding Volume of the sphere\n",
    "\n",
    "V = (4/3)*(math.pi)*(radius**3)\n",
    "\n",
    "print(\"Diametre of the Sphere is : {}\".format(diametre))\n",
    "print(\"\\nRadius of the Sphere is : {}\".format(radius))\n",
    "print(\"\\nValue of the sphere with 12 metre is : {} cm\".format(V))"
   ]
  }
 ],
 "metadata": {
  "kernelspec": {
   "display_name": "Python 3",
   "language": "python",
   "name": "python3"
  },
  "language_info": {
   "codemirror_mode": {
    "name": "ipython",
    "version": 3
   },
   "file_extension": ".py",
   "mimetype": "text/x-python",
   "name": "python",
   "nbconvert_exporter": "python",
   "pygments_lexer": "ipython3",
   "version": "3.7.1"
  }
 },
 "nbformat": 4,
 "nbformat_minor": 4
}
