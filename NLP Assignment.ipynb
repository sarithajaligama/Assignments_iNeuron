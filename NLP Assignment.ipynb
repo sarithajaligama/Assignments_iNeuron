{
 "cells": [
  {
   "cell_type": "code",
   "execution_count": 1,
   "metadata": {},
   "outputs": [],
   "source": [
    "from bs4 import BeautifulSoup\n",
    "import urllib.request\n",
    "import nltk\n",
    "from nltk.tokenize import word_tokenize\n",
    "from nltk.corpus import stopwords\n",
    "import re\n",
    "import string"
   ]
  },
  {
   "cell_type": "code",
   "execution_count": 2,
   "metadata": {},
   "outputs": [],
   "source": [
    "response = urllib.request.urlopen('http://php.net/')\n",
    "html = response.read()\n",
    "soup = BeautifulSoup(html,\"html5lib\")"
   ]
  },
  {
   "cell_type": "markdown",
   "metadata": {},
   "source": [
    "##### Extracting a title"
   ]
  },
  {
   "cell_type": "code",
   "execution_count": 15,
   "metadata": {
    "scrolled": true
   },
   "outputs": [
    {
     "data": {
      "text/plain": [
       "['PHP:',\n",
       " 'Hypertext',\n",
       " 'PreprocessorDownloadsDocumentationGet',\n",
       " 'InvolvedHelpGetting',\n",
       " 'StartedIntroductionA']"
      ]
     },
     "execution_count": 15,
     "metadata": {},
     "output_type": "execute_result"
    }
   ],
   "source": [
    "x = page.get_text(strip=True)\n",
    "y = [i for i in x.split()]\n",
    "y[:5]"
   ]
  },
  {
   "cell_type": "code",
   "execution_count": 22,
   "metadata": {},
   "outputs": [
    {
     "name": "stdout",
     "output_type": "stream",
     "text": [
      "PHP: Hypertext Preprocessor\n"
     ]
    }
   ],
   "source": [
    "print(soup.title.text)"
   ]
  },
  {
   "cell_type": "code",
   "execution_count": 23,
   "metadata": {},
   "outputs": [
    {
     "data": {
      "text/plain": [
       "['PHP:',\n",
       " 'Hypertext',\n",
       " 'PreprocessorDownloadsDocumentationGet',\n",
       " 'InvolvedHelpGetting',\n",
       " 'StartedIntroductionA']"
      ]
     },
     "execution_count": 23,
     "metadata": {},
     "output_type": "execute_result"
    }
   ],
   "source": [
    "# convert that text into tokens by splitting\n",
    "\n",
    "text = soup.get_text(strip=True)\n",
    "tokens = [t for t in text.split()]\n",
    "tokens[:5]"
   ]
  },
  {
   "cell_type": "markdown",
   "metadata": {},
   "source": [
    "##### Stopwords"
   ]
  },
  {
   "cell_type": "code",
   "execution_count": 24,
   "metadata": {
    "scrolled": false
   },
   "outputs": [
    {
     "name": "stderr",
     "output_type": "stream",
     "text": [
      "[nltk_data] Downloading package stopwords to\n",
      "[nltk_data]     C:\\Users\\pc\\AppData\\Roaming\\nltk_data...\n",
      "[nltk_data]   Package stopwords is already up-to-date!\n"
     ]
    },
    {
     "data": {
      "text/plain": [
       "['i', 'me', 'my', 'myself', 'we']"
      ]
     },
     "execution_count": 24,
     "metadata": {},
     "output_type": "execute_result"
    }
   ],
   "source": [
    "nltk.download('stopwords')\n",
    "stop_words = stopwords.words('english')\n",
    "stop_words[:5]"
   ]
  },
  {
   "cell_type": "markdown",
   "metadata": {},
   "source": [
    "##### Punctuation"
   ]
  },
  {
   "cell_type": "code",
   "execution_count": 25,
   "metadata": {},
   "outputs": [
    {
     "data": {
      "text/plain": [
       "'!\"#$%&\\'()*+,-./:;<=>?@[\\\\]^_`{|}~'"
      ]
     },
     "execution_count": 25,
     "metadata": {},
     "output_type": "execute_result"
    }
   ],
   "source": [
    "punctuation = string.punctuation\n",
    "punctuation"
   ]
  },
  {
   "cell_type": "markdown",
   "metadata": {},
   "source": [
    "##### Lowercase"
   ]
  },
  {
   "cell_type": "code",
   "execution_count": 50,
   "metadata": {
    "scrolled": true
   },
   "outputs": [
    {
     "data": {
      "text/plain": [
       "['php:',\n",
       " 'hypertext',\n",
       " 'preprocessordownloadsdocumentationget',\n",
       " 'involvedhelpgetting',\n",
       " 'startedintroductiona']"
      ]
     },
     "execution_count": 50,
     "metadata": {},
     "output_type": "execute_result"
    }
   ],
   "source": [
    "words = []\n",
    "for word in tokens:\n",
    "    words.append(word.lower())\n",
    "words[:5]"
   ]
  },
  {
   "cell_type": "markdown",
   "metadata": {},
   "source": [
    "##### Extracting clean words"
   ]
  },
  {
   "cell_type": "code",
   "execution_count": 27,
   "metadata": {
    "scrolled": false
   },
   "outputs": [
    {
     "data": {
      "text/plain": [
       "['php:',\n",
       " 'hypertext',\n",
       " 'preprocessordownloadsdocumentationget',\n",
       " 'involvedhelpgetting',\n",
       " 'startedintroductiona']"
      ]
     },
     "execution_count": 27,
     "metadata": {},
     "output_type": "execute_result"
    }
   ],
   "source": [
    "clean_words = []\n",
    "for i in tokens:\n",
    "    if i not in stop_words:\n",
    "        if i not in punctuation:\n",
    "            clean_words.append(i.lower())\n",
    "            \n",
    "clean_words[:5]"
   ]
  },
  {
   "cell_type": "code",
   "execution_count": 44,
   "metadata": {
    "scrolled": true
   },
   "outputs": [
    {
     "name": "stdout",
     "output_type": "stream",
     "text": [
      "php: : 1\n",
      "hypertext : 1\n",
      "preprocessordownloadsdocumentationget : 1\n",
      "involvedhelpgetting : 1\n",
      "startedintroductiona : 1\n",
      "simple : 1\n",
      "tutoriallanguage : 1\n",
      "referencebasic : 1\n",
      "syntaxtypesvariablesconstantsexpressionsoperatorscontrol : 1\n",
      "structuresfunctionsclasses : 1\n",
      "objectsnamespaceserrorsexceptionsgeneratorsattributesreferences : 1\n",
      "explainedpredefined : 1\n",
      "variablespredefined : 1\n",
      "exceptionspredefined : 1\n",
      "interfaces : 1\n",
      "classescontext : 1\n",
      "options : 1\n",
      "parameterssupported : 1\n",
      "protocols : 1\n",
      "wrapperssecurityintroductiongeneral : 1\n",
      "considerationsinstalled : 1\n",
      "cgi : 1\n",
      "binaryinstalled : 1\n",
      "apache : 1\n",
      "modulesession : 1\n",
      "securityfilesystem : 1\n",
      "securitydatabase : 1\n",
      "securityerror : 1\n",
      "reportingusing : 1\n",
      "register : 1\n",
      "globalsuser : 1\n",
      "submitted : 1\n",
      "datahiding : 1\n",
      "phpkeeping : 1\n",
      "currentfeatureshttp : 1\n",
      "authentication : 1\n",
      "phpcookiessessionsdealing : 1\n",
      "xformshandling : 1\n",
      "file : 1\n",
      "uploadsusing : 1\n",
      "remote : 1\n",
      "filesconnection : 1\n",
      "handlingpersistent : 1\n",
      "database : 1\n",
      "connectionscommand : 1\n",
      "line : 2\n",
      "usagegarbage : 1\n",
      "collectiondtrace : 1\n",
      "dynamic : 1\n",
      "tracingfunction : 1\n",
      "referenceaffecting : 1\n",
      "php's : 1\n",
      "behaviouraudio : 1\n",
      "formats : 1\n",
      "manipulationauthentication : 1\n",
      "servicescommand : 1\n",
      "specific : 2\n",
      "extensionscompression : 1\n",
      "archive : 1\n",
      "extensionscryptography : 1\n",
      "extensionsdatabase : 1\n",
      "extensionsdate : 1\n",
      "time : 2\n",
      "related : 4\n",
      "extensionsfile : 1\n",
      "system : 1\n",
      "extensionshuman : 1\n",
      "language : 2\n",
      "character : 1\n",
      "encoding : 1\n",
      "supportimage : 1\n",
      "processing : 1\n",
      "generationmail : 1\n",
      "extensionsmathematical : 1\n",
      "extensionsnon-text : 1\n",
      "mime : 1\n",
      "outputprocess : 1\n",
      "control : 1\n",
      "extensionsother : 2\n",
      "basic : 1\n",
      "servicessearch : 1\n",
      "engine : 1\n",
      "extensionsserver : 1\n",
      "extensionssession : 1\n",
      "extensionstext : 1\n",
      "processingvariable : 1\n",
      "type : 1\n",
      "extensionsweb : 1\n",
      "serviceswindows : 1\n",
      "only : 1\n",
      "extensionsxml : 1\n",
      "manipulationgui : 1\n",
      "extensionskeyboard : 1\n",
      "shortcuts?this : 1\n",
      "helpjnext : 1\n",
      "menu : 2\n",
      "itemkprevious : 1\n",
      "itemg : 1\n",
      "pprevious : 1\n",
      "man : 2\n",
      "pageg : 1\n",
      "nnext : 1\n",
      "pagegscroll : 1\n",
      "bottomg : 1\n",
      "gscroll : 1\n",
      "topg : 1\n",
      "hgoto : 1\n",
      "homepageg : 1\n",
      "sgoto : 1\n",
      "search(current : 1\n",
      "page)/focus : 1\n",
      "search : 1\n",
      "boxphp : 1\n",
      "popular : 2\n",
      "general-purpose : 1\n",
      "scripting : 1\n",
      "especially : 1\n",
      "suited : 1\n",
      "web : 1\n",
      "development.fast, : 1\n",
      "flexible : 1\n",
      "pragmatic, : 1\n",
      "php : 112\n",
      "powers : 1\n",
      "everything : 1\n",
      "blog : 1\n",
      "websites : 1\n",
      "world.download8.0.1·release : 1\n",
      "notes·upgrading7.4.14·release : 1\n",
      "notes·upgrading7.3.26·release : 1\n",
      "notes·upgrading07 : 1\n",
      "jan : 3\n",
      "2021php : 3\n",
      "8.0.1 : 2\n",
      "released!the : 17\n",
      "development : 17\n",
      "team : 25\n",
      "announces : 16\n",
      "immediate : 16\n",
      "availability : 16\n",
      "8.0.1. : 1\n",
      "this : 20\n",
      "bug : 8\n",
      "fix : 8\n",
      "release.all : 15\n",
      "8.0 : 6\n",
      "users : 15\n",
      "encouraged : 15\n",
      "upgrade : 15\n",
      "version.for : 24\n",
      "source : 41\n",
      "downloads : 25\n",
      "please : 26\n",
      "visit : 25\n",
      "ourdownloads : 16\n",
      "page, : 16\n",
      "windows : 16\n",
      "binaries : 16\n",
      "found : 49\n",
      "onwindows.php.net/download/. : 16\n",
      "the : 23\n",
      "list : 26\n",
      "changes : 16\n",
      "recorded : 16\n",
      "thechangelog.07 : 2\n",
      "7.3.26 : 2\n",
      "7.3.26. : 1\n",
      "security : 7\n",
      "7.3 : 6\n",
      "7.4.14 : 2\n",
      "7.4.14. : 1\n",
      "7.4 : 6\n",
      "thechangelog.26 : 2\n",
      "nov : 8\n",
      "2020php : 22\n",
      "8.0.0 : 19\n",
      "8.0.0. : 1\n",
      "release : 69\n",
      "marks : 1\n",
      "latest : 1\n",
      "major : 1\n",
      "language.php : 1\n",
      "comes : 1\n",
      "numerous : 1\n",
      "improvements : 1\n",
      "new : 11\n",
      "features : 11\n",
      "as:union : 1\n",
      "typesnamed : 1\n",
      "argumentsmatch : 1\n",
      "expressionsattributesconstructor : 1\n",
      "property : 1\n",
      "promotionnullsafe : 1\n",
      "operatorweak : 1\n",
      "mapsjust : 1\n",
      "in : 1\n",
      "compilationand : 1\n",
      "much : 2\n",
      "more...take : 1\n",
      "look : 1\n",
      "thephp : 10\n",
      "announcement : 1\n",
      "addendumfor : 1\n",
      "information.for : 1\n",
      "thechangelog.themigration : 1\n",
      "guideis : 1\n",
      "available : 9\n",
      "manual. : 1\n",
      "consult : 1\n",
      "detailed : 1\n",
      "backward : 1\n",
      "incompatible : 1\n",
      "changes.many : 1\n",
      "thanks : 1\n",
      "contributors : 1\n",
      "supporters!26 : 1\n",
      "7.3.25 : 2\n",
      "7.3.25. : 1\n",
      "7.4.13 : 2\n",
      "7.4.13. : 1\n",
      "thechangelog.19 : 1\n",
      "candidate : 20\n",
      "5 : 2\n",
      "testingthe : 8\n",
      "pleased : 9\n",
      "announce : 9\n",
      "eleventh : 1\n",
      "testing : 9\n",
      "8.0.0, : 9\n",
      "5.this : 1\n",
      "extra : 2\n",
      "unplanned : 1\n",
      "release, : 1\n",
      "we're : 7\n",
      "planning : 6\n",
      "adjust : 6\n",
      "ga : 6\n",
      "date, : 6\n",
      "however, : 1\n",
      "may : 6\n",
      "change : 6\n",
      "course : 6\n",
      "rc : 7\n",
      "cycle. : 6\n",
      "updated : 6\n",
      "schedule : 6\n",
      "can, : 6\n",
      "always, : 6\n",
      "wiki : 5\n",
      "page : 5\n",
      "8.0.for : 5\n",
      "thedownload : 9\n",
      "page.please : 9\n",
      "carefully : 9\n",
      "test : 18\n",
      "version : 18\n",
      "report : 9\n",
      "issues : 9\n",
      "thebug : 9\n",
      "reporting : 9\n",
      "system.please : 9\n",
      "do : 9\n",
      "not : 9\n",
      "use : 9\n",
      "production, : 9\n",
      "early : 9\n",
      "information : 9\n",
      "changes, : 9\n",
      "read : 9\n",
      "thenewsfile, : 9\n",
      "theupgradingfile : 9\n",
      "complete : 9\n",
      "upgrading : 9\n",
      "notes. : 9\n",
      "these : 9\n",
      "files : 9\n",
      "also : 9\n",
      "archive.the : 9\n",
      "next : 9\n",
      "general : 2\n",
      "availability, : 2\n",
      "planned : 9\n",
      "26 : 2\n",
      "2020.the : 9\n",
      "signatures : 9\n",
      "inthe : 9\n",
      "manifestor : 9\n",
      "onthe : 9\n",
      "qa : 9\n",
      "site.thank : 9\n",
      "helping : 9\n",
      "us : 9\n",
      "make : 9\n",
      "better.12 : 1\n",
      "4 : 4\n",
      "tenth : 2\n",
      "4.at : 1\n",
      "time, : 5\n",
      "however : 6\n",
      "better.29 : 2\n",
      "oct : 11\n",
      "7.4.12 : 2\n",
      "7.4.12. : 1\n",
      "thechangelog.29 : 1\n",
      "3 : 5\n",
      "3.at : 1\n",
      "4, : 1\n",
      "12 : 1\n",
      "7.3.24 : 2\n",
      "7.3.24. : 1\n",
      "thechangelog.16 : 1\n",
      "2 : 3\n",
      "ninth : 1\n",
      "2.at : 1\n",
      "3, : 2\n",
      "29 : 1\n",
      "better.01 : 2\n",
      "1 : 5\n",
      "eighth : 1\n",
      "1.at : 1\n",
      "2, : 2\n",
      "15 : 1\n",
      "7.3.23 : 2\n",
      "7.3.23. : 1\n",
      "thechangelog.01 : 2\n",
      "7.4.11 : 2\n",
      "7.4.11. : 1\n",
      "7.2.34 : 2\n",
      "7.2.34. : 1\n",
      "7.2 : 2\n",
      "thechangelog.17 : 1\n",
      "sep : 6\n",
      "beta : 14\n",
      "seventh : 1\n",
      "4. : 1\n",
      "point : 1\n",
      "cycle : 2\n",
      "would : 1\n",
      "normally : 1\n",
      "rc1, : 1\n",
      "still : 1\n",
      "finalizing : 1\n",
      "jit : 1\n",
      "squaring : 1\n",
      "away : 1\n",
      "named : 1\n",
      "arguments, : 1\n",
      "we've : 1\n",
      "opted : 1\n",
      "plans : 1\n",
      "start : 1\n",
      "two : 1\n",
      "weeks.at : 1\n",
      "wiki.for : 4\n",
      "1, : 2\n",
      "better.03 : 2\n",
      "sixth : 1\n",
      "3. : 1\n",
      "continues : 3\n",
      "cycle, : 3\n",
      "rough : 3\n",
      "outline : 3\n",
      "specified : 3\n",
      "17 : 1\n",
      "7.4.10 : 2\n",
      "7.4.10. : 1\n",
      "thechangelog.03 : 1\n",
      "7.3.22 : 2\n",
      "7.3.22. : 1\n",
      "thechangelog.21 : 1\n",
      "aug : 6\n",
      "8.0.0beta2 : 1\n",
      "fifth : 1\n",
      "2. : 1\n",
      "better.06 : 2\n",
      "7.4.9 : 2\n",
      "7.4.9. : 1\n",
      "thechangelog.06 : 2\n",
      "fourth : 1\n",
      "1. : 1\n",
      "20 : 1\n",
      "7.3.21 : 2\n",
      "7.3.21. : 1\n",
      "7.2.33 : 2\n",
      "7.2.33. : 1\n",
      "thechangelog.older : 1\n",
      "news : 1\n",
      "entriesupcoming : 1\n",
      "conferencesthe : 1\n",
      "online : 1\n",
      "conference : 1\n",
      "2021user : 1\n",
      "group : 1\n",
      "eventsspecial : 1\n",
      "thankssocial : 1\n",
      "media@official_phpcopyright : 1\n",
      "© : 1\n",
      "2001-2021 : 1\n",
      "groupmy : 1\n",
      "php.netcontactother : 1\n",
      "php.net : 1\n",
      "sitesprivacy : 1\n",
      "policy : 1\n"
     ]
    }
   ],
   "source": [
    "# calculate the frequency of those tokens using Python NLTK.\n",
    "\n",
    "counts = nltk.FreqDist(clean_words) \n",
    "for key,val in counts.items(): \n",
    "    print(str(key) + ' : ' + str(val))"
   ]
  },
  {
   "cell_type": "code",
   "execution_count": 52,
   "metadata": {
    "scrolled": true
   },
   "outputs": [
    {
     "name": "stdout",
     "output_type": "stream",
     "text": [
      "Total including stopwords \t\t: 2557\n",
      "Length after removing stopwords and punctuations : 1802\n",
      "Total removed stopwords and punctuations : 755\n"
     ]
    }
   ],
   "source": [
    "print(f\"Total including stopwords : {len(words)}\")\n",
    "print(f\"Length after removing stopwords and punctuations : {len(clean_words)}\")\n",
    "print(f\"Total removed stopwords and punctuations : {len(words)-len(clean_words)}\")"
   ]
  },
  {
   "cell_type": "code",
   "execution_count": 47,
   "metadata": {},
   "outputs": [
    {
     "name": "stdout",
     "output_type": "stream",
     "text": [
      "Most common words : \n",
      "[('php', 112), ('release', 69), ('found', 49), ('source', 41), ('please', 26), ('list', 26), ('team', 25), ('downloads', 25), ('visit', 25), ('version.for', 24)]\n",
      "\n",
      "Max common word : php\n"
     ]
    }
   ],
   "source": [
    "print(f'Most common words : \\n{counts.most_common(10)}')\n",
    "print(f'\\nMax common word : {counts.max()}')"
   ]
  },
  {
   "cell_type": "code",
   "execution_count": 48,
   "metadata": {},
   "outputs": [
    {
     "name": "stdout",
     "output_type": "stream",
     "text": [
      "Frequency of most common word : 0.06215316315205328\n"
     ]
    }
   ],
   "source": [
    "print(f'Frequency of most common word : {counts.freq(counts.max())}')"
   ]
  },
  {
   "cell_type": "code",
   "execution_count": 49,
   "metadata": {},
   "outputs": [
    {
     "data": {
      "image/png": "[encoded data removed]",
      "text/plain": [
       "<Figure size 432x288 with 1 Axes>"
      ]
     },
     "metadata": {
      "needs_background": "light"
     },
     "output_type": "display_data"
    }
   ],
   "source": [
    "counts.plot(20, cumulative=False)\n",
    "pass"
   ]
  }
 ],
 "metadata": {
  "kernelspec": {
   "display_name": "Python 3",
   "language": "python",
   "name": "python3"
  },
  "language_info": {
   "codemirror_mode": {
    "name": "ipython",
    "version": 3
   },
   "file_extension": ".py",
   "mimetype": "text/x-python",
   "name": "python",
   "nbconvert_exporter": "python",
   "pygments_lexer": "ipython3",
   "version": "3.7.1"
  }
 },
 "nbformat": 4,
 "nbformat_minor": 2
}
