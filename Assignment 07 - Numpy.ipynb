{
 "cells": [
  {
   "cell_type": "markdown",
   "metadata": {},
   "source": [
    "### Question - 01"
   ]
  },
  {
   "cell_type": "markdown",
   "metadata": {},
   "source": [
    "Write a function so that the columns of the output matrix are powers of the input vector.\n",
    "\n",
    "\n",
    "The order of the powers is determined by the increasing boolean argument. Specifically, when increasing is False, the i-th output column is the input vector raised element-wise to the power of N - i - 1.\n",
    "\n",
    "\n",
    "**HINT :** Such a matrix with a geometric progression in each row is named for Alexandre- Theophile Vandermonde.\n"
   ]
  },
  {
   "cell_type": "code",
   "execution_count": null,
   "metadata": {},
   "outputs": [],
   "source": [
    "import numpy as np"
   ]
  },
  {
   "cell_type": "code",
   "execution_count": null,
   "metadata": {
    "scrolled": true
   },
   "outputs": [],
   "source": [
    "print('\\033[1m' + '----------------- Input Values -----------------' + '\\033[0m')\n",
    "\n",
    "Input_array = np.array([3,5,7,2])\n",
    "no_of_col = 5\n",
    "incresing = True\n",
    "\n",
    "\n",
    "print('\\nInput array \\t\\t: ',Input_array)\n",
    "print('Number of columns \\t: ',no_of_col)\n",
    "print('incresing \\t\\t: ',incresing)\n",
    "print('\\n')\n",
    "\n",
    "\n",
    "#----------------------------------------------------------\n",
    "def Output_matrix(Input_array, no_of_col, incresing = True):\n",
    "    if incresing:\n",
    "        Result =  np.array([i**j for i in Input_array for j in range(no_of_col)]).reshape(len(Input_array),no_of_col)\n",
    "    else:\n",
    "        Result = np.array([i**(no_of_col-1-j) for i in Input_array for j in range(no_of_col)]).reshape(len(Input_array),no_of_col)\n",
    "    return Result\n",
    "\n",
    "Result_op_matrix = Output_matrix(Input_array, no_of_col, False)\n",
    "Result_op_matrix\n",
    "\n",
    "print('\\033[1m' + '------------- Result of output Values -------------' + '\\033[0m\\n')\n",
    "\n",
    "print(Result_op_matrix)"
   ]
  },
  {
   "cell_type": "markdown",
   "metadata": {},
   "source": [
    "### Question - 02"
   ]
  },
  {
   "cell_type": "markdown",
   "metadata": {},
   "source": [
    "Problem Statement 2:\n",
    "\n",
    "Given a sequence of n values x1, x2, ..., xn and a window size k>0, the k-th moving average of the given sequence is defined as follows:\n",
    "\n",
    "\n",
    "The moving average sequence has n-k+1 elements as shown below.\n",
    "\n",
    "The moving averages with k=4 of a ten-value sequence (n=10) is shown below"
   ]
  },
  {
   "cell_type": "code",
   "execution_count": 3,
   "metadata": {},
   "outputs": [
    {
     "data": {
      "image/png": "[encoded data removed]",
      "text/plain": [
       "<IPython.core.display.Image object>"
      ]
     },
     "execution_count": 3,
     "metadata": {
      "image/png": {
       "width": 250
      }
     },
     "output_type": "execute_result"
    }
   ],
   "source": [
    "from IPython.display import Image\n",
    "Image(filename = \"Numpy.png\", width = 250)"
   ]
  },
  {
   "cell_type": "markdown",
   "metadata": {},
   "source": [
    "Thus, the moving average sequence has n-k+1=10-4+1=7 values."
   ]
  },
  {
   "cell_type": "markdown",
   "metadata": {},
   "source": [
    "Write a function to find moving average in an array over a window:\n",
    "Test it over [3, 5, 7, 2, 8, 10, 11, 65, 72, 81, 99, 100, 150] and window of 3."
   ]
  },
  {
   "cell_type": "code",
   "execution_count": 4,
   "metadata": {},
   "outputs": [],
   "source": [
    "def Moving_avg_array(Values,Window_size):\n",
    "    Result = []\n",
    "    Moving_avg = len(Values) - Window_size  + 1\n",
    "    for i in range(Moving_avg):\n",
    "        Result.append(Values[i:i+Window_size].sum()/Window_size)\n",
    "    return Result"
   ]
  },
  {
   "cell_type": "code",
   "execution_count": 5,
   "metadata": {},
   "outputs": [
    {
     "name": "stdout",
     "output_type": "stream",
     "text": [
      "\u001b[1m----------------- Input Values -----------------\u001b[0m\n",
      "\n",
      "Given values are :  [ 10  20  30  40  50  60  70  80  90 100]\n",
      "Window size :  4\n",
      "\n",
      "\u001b[1m------------- Result of output Values -------------\u001b[0m\n",
      "\n",
      "[25.0, 35.0, 45.0, 55.0, 65.0, 75.0, 85.0]\n"
     ]
    }
   ],
   "source": [
    "# Testing\n",
    "Values = np.array([10, 20, 30, 40, 50, 60, 70, 80, 90, 100])\n",
    "Window_size = 4\n",
    "\n",
    "print('\\033[1m' + '----------------- Input Values -----------------' + '\\033[0m\\n')\n",
    "print('Given values are : ', Values)\n",
    "print('Window size : ', Window_size)\n",
    "\n",
    "\n",
    "print('\\n\\033[1m' + '------------- Result of output Values -------------' + '\\033[0m\\n')\n",
    "\n",
    "print(Moving_avg_array(Values, Window_size))"
   ]
  },
  {
   "cell_type": "code",
   "execution_count": 7,
   "metadata": {},
   "outputs": [
    {
     "name": "stdout",
     "output_type": "stream",
     "text": [
      "\u001b[1m----------------- Input Values -----------------\u001b[0m\n",
      "\n",
      "Given values are :  [  3   5   7   2   8  10  11  65  72  81  99 100 150]\n",
      "Window size :  3\n",
      "\n",
      "\u001b[1m------------- Result of output Values -------------\u001b[0m\n",
      "\n",
      "[5.0, 4.666666666666667, 5.666666666666667, 6.666666666666667, 9.666666666666666, 28.666666666666668, 49.333333333333336, 72.66666666666667, 84.0, 93.33333333333333, 116.33333333333333]\n"
     ]
    }
   ],
   "source": [
    "# Testing 2\n",
    "Values = np.array([3, 5, 7, 2, 8, 10, 11, 65, 72, 81, 99, 100, 150])\n",
    "Window_size = 3\n",
    "\n",
    "print('\\033[1m' + '----------------- Input Values -----------------' + '\\033[0m\\n')\n",
    "print('Given values are : ', Values)\n",
    "print('Window size : ', Window_size)\n",
    "\n",
    "\n",
    "print('\\n\\033[1m' + '------------- Result of output Values -------------' + '\\033[0m\\n')\n",
    "\n",
    "print(Moving_avg_array(Values,Window_size))"
   ]
  }
 ],
 "metadata": {
  "kernelspec": {
   "display_name": "Python 3",
   "language": "python",
   "name": "python3"
  },
  "language_info": {
   "codemirror_mode": {
    "name": "ipython",
    "version": 3
   },
   "file_extension": ".py",
   "mimetype": "text/x-python",
   "name": "python",
   "nbconvert_exporter": "python",
   "pygments_lexer": "ipython3",
   "version": "3.7.1"
  }
 },
 "nbformat": 4,
 "nbformat_minor": 2
}
