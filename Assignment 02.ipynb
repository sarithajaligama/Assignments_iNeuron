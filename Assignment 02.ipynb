{
 "cells": [
  {
   "cell_type": "markdown",
   "metadata": {},
   "source": [
    "#### 1. Create the below pattern using nested for loop in Python."
   ]
  },
  {
   "cell_type": "code",
   "execution_count": 1,
   "metadata": {
    "scrolled": true
   },
   "outputs": [
    {
     "name": "stdout",
     "output_type": "stream",
     "text": [
      "*    \n",
      "**   \n",
      "***  \n",
      "**** \n",
      "*****\n",
      "****\n",
      "*** \n",
      "**  \n",
      "*   \n"
     ]
    }
   ],
   "source": [
    "# Method 1\n",
    "new_list = ''\n",
    "for i in range(5):\n",
    "    for j in range(5):\n",
    "        if (i >= j):\n",
    "            new_list = new_list + '*'\n",
    "        else:\n",
    "            new_list = new_list + ' '\n",
    "        \n",
    "    print(new_list)\n",
    "    \n",
    "    new_list = ''\n",
    "    \n",
    "for i in range(4):\n",
    "    for j in range(4):\n",
    "        if (i <= j):\n",
    "            new_list = new_list + '*'\n",
    "        else:\n",
    "            new_list = new_list + ' '\n",
    "        \n",
    "    print(new_list[::-1])\n",
    "    \n",
    "    new_list = ''\n",
    "       "
   ]
  },
  {
   "cell_type": "code",
   "execution_count": 2,
   "metadata": {},
   "outputs": [
    {
     "name": "stdout",
     "output_type": "stream",
     "text": [
      "*\n",
      "**\n",
      "***\n",
      "****\n",
      "*****\n",
      "*****\n",
      "****\n",
      "***\n",
      "**\n",
      "*\n"
     ]
    }
   ],
   "source": [
    "# Method 2\n",
    "for i in range(5):\n",
    "    print('*'*(i+1))\n",
    "for i in range(5):\n",
    "    print('*'*(5-i))"
   ]
  },
  {
   "cell_type": "code",
   "execution_count": 3,
   "metadata": {},
   "outputs": [
    {
     "name": "stdout",
     "output_type": "stream",
     "text": [
      "Input_range : 5\n",
      "*\n",
      "**\n",
      "***\n",
      "****\n",
      "*****\n",
      "*****\n",
      "****\n",
      "***\n",
      "**\n",
      "*\n"
     ]
    }
   ],
   "source": [
    "# Method 3\n",
    "n = int(input(\"Input_range : \"))\n",
    "for i in range(n):\n",
    "    print('*'*(i+1))\n",
    "for i in range(n):\n",
    "    print('*'*(n-i))"
   ]
  },
  {
   "cell_type": "markdown",
   "metadata": {},
   "source": [
    "#### 2. Write a Python program to reverse a word after accepting the input from the user.\n",
    "###### Sample Output:\n",
    "###### Input word: ineuron\n",
    "###### Output: norueni"
   ]
  },
  {
   "cell_type": "code",
   "execution_count": 4,
   "metadata": {
    "scrolled": true
   },
   "outputs": [
    {
     "name": "stdout",
     "output_type": "stream",
     "text": [
      "Input_word : sari\n",
      "Output_word : iras\n"
     ]
    }
   ],
   "source": [
    "Input_word = input(\"Input_word : \")\n",
    "print(\"Output_word : {}\".format(Input_word[::-1]))"
   ]
  }
 ],
 "metadata": {
  "kernelspec": {
   "display_name": "Python 3",
   "language": "python",
   "name": "python3"
  },
  "language_info": {
   "codemirror_mode": {
    "name": "ipython",
    "version": 3
   },
   "file_extension": ".py",
   "mimetype": "text/x-python",
   "name": "python",
   "nbconvert_exporter": "python",
   "pygments_lexer": "ipython3",
   "version": "3.7.6"
  }
 },
 "nbformat": 4,
 "nbformat_minor": 4
}
